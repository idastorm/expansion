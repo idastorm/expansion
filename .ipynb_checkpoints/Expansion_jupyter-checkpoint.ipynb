{
 "cells": [
  {
   "cell_type": "markdown",
   "metadata": {},
   "source": [
    "# Expansion och mångfald\n",
    "Ett programmeringsverktyg som ger överblick över databasens innehåll"
   ]
  },
  {
   "cell_type": "markdown",
   "metadata": {},
   "source": [
    "<h3>Importera funktioner</h3>"
   ]
  },
  {
   "cell_type": "code",
   "execution_count": 1,
   "metadata": {},
   "outputs": [
    {
     "data": {
      "application/javascript": [
       "IPython.OutputArea.prototype._should_scroll = function(lines) {\n",
       "    return false;\n",
       "}\n"
      ],
      "text/plain": [
       "<IPython.core.display.Javascript object>"
      ]
     },
     "metadata": {},
     "output_type": "display_data"
    }
   ],
   "source": [
    "%run web_services_functions.ipynb"
   ]
  },
  {
   "cell_type": "markdown",
   "metadata": {},
   "source": [
    "<h2>Överblick personer</h2>"
   ]
  },
  {
   "cell_type": "markdown",
   "metadata": {},
   "source": [
    "<p>Tillgå organisationsdata via JSON webservice/API <b>OBS:</b> behövs bara köras en gång!<br>\n",
    "    Det kommer att ta en stund, det är ganska mycket data som ska hämtas.</p>"
   ]
  },
  {
   "cell_type": "code",
   "execution_count": null,
   "metadata": {},
   "outputs": [
    {
     "data": {
      "application/vnd.jupyter.widget-view+json": {
       "model_id": "c37817486db648f9a52e9c982bb6f54c",
       "version_major": 2,
       "version_minor": 0
      },
      "text/plain": [
       "IntProgress(value=0, max=486)"
      ]
     },
     "metadata": {},
     "output_type": "display_data"
    },
    {
     "data": {
      "text/html": [
       "<p>Organisationsdata hämtad. Nu genomgång av data och organiserar den för att göra den användbar.</p>"
      ],
      "text/plain": [
       "<IPython.core.display.HTML object>"
      ]
     },
     "metadata": {},
     "output_type": "display_data"
    },
    {
     "data": {
      "application/vnd.jupyter.widget-view+json": {
       "model_id": "56b314da03504434bc56ffac5325b159",
       "version_major": 2,
       "version_minor": 0
      },
      "text/plain": [
       "IntProgress(value=0, max=486)"
      ]
     },
     "metadata": {},
     "output_type": "display_data"
    }
   ],
   "source": [
    "dictionaries_organizations, organization_list_of_tuples_only_w_productions, organizations_w_productions_dictionaries=get_organization_data_for_notebook()"
   ]
  },
  {
   "cell_type": "markdown",
   "metadata": {},
   "source": [
    "<a id='section1'></a>\n",
    "<h3>Ingång person via organisation och produktion</h3><br>\n",
    "<p>Efter att man kör följande cell får man en interaktiv dropdown-meny där man väljer organisation, produktion och person.<br>\n",
    "När man klickar på knappen \"Uppdatera\" får man följande:<br><br>\n",
    "    <li>Personens artikel (om den finns)</li>\n",
    "    <li>En lista på de roller personen har i selekterad produktion</li>\n",
    "    <li>En lista på alla produktioner, inklusive roller i den produktionen, personen är med i av selekterad organisation</li>\n",
    "    <li>En lista på alla andra organisationer personen är associerad med</li><br>\n",
    "Det finns dessutom länkar till alla produktioner.<br><br>\n",
    "Gör man en ny selektion är det bara att klicka på \"Uppdatera\" igen.</p>"
   ]
  },
  {
   "cell_type": "markdown",
   "metadata": {},
   "source": [
    "<p>Kör den här cellen för att göra selektionen</p>"
   ]
  },
  {
   "cell_type": "code",
   "execution_count": 3,
   "metadata": {},
   "outputs": [
    {
     "data": {
      "application/vnd.jupyter.widget-view+json": {
       "model_id": "1654b57cfd554f5a9693c82cc2e20418",
       "version_major": 2,
       "version_minor": 0
      },
      "text/plain": [
       "HBox(children=(Dropdown(description='Organization', options=(('ADAS musikaliska teater', '6'), ('Alice', '521'…"
      ]
     },
     "metadata": {},
     "output_type": "display_data"
    },
    {
     "data": {
      "application/vnd.jupyter.widget-view+json": {
       "model_id": "3bb7f31fd65a41f98744697100fa963e",
       "version_major": 2,
       "version_minor": 0
      },
      "text/plain": [
       "Button(button_style='danger', description='Uppdatera', layout=Layout(margin='50px 100px 40px 275px'), style=Bu…"
      ]
     },
     "metadata": {},
     "output_type": "display_data"
    },
    {
     "data": {
      "application/vnd.jupyter.widget-view+json": {
       "model_id": "f9c3bb176bf64e7b8ec3c64f6749d7b9",
       "version_major": 2,
       "version_minor": 0
      },
      "text/plain": [
       "Output()"
      ]
     },
     "metadata": {},
     "output_type": "display_data"
    },
    {
     "data": {
      "application/vnd.jupyter.widget-view+json": {
       "model_id": "6e05b819354241f595caaba1398d6cc5",
       "version_major": 2,
       "version_minor": 0
      },
      "text/plain": [
       "Output()"
      ]
     },
     "metadata": {},
     "output_type": "display_data"
    },
    {
     "data": {
      "application/vnd.jupyter.widget-view+json": {
       "model_id": "e1ac3468411a400da8fe3b5fd76c650b",
       "version_major": 2,
       "version_minor": 0
      },
      "text/plain": [
       "Output()"
      ]
     },
     "metadata": {},
     "output_type": "display_data"
    }
   ],
   "source": [
    "person_via_org_prod()"
   ]
  },
  {
   "cell_type": "markdown",
   "metadata": {},
   "source": [
    "<h2>Statistik</h2>"
   ]
  },
  {
   "cell_type": "markdown",
   "metadata": {},
   "source": [
    "<p>Importera person-data. Alla 6000+ personer i databasen, vilket betyder att det <b>tar en stund (ca 15 min)</b>.<br>\n",
    "Cellen behövs bara köras en gång<br>\n",
    "Data för organisationerna används också, men har redan importerats för föregående avsnitt.<br><br> \n",
    "Har du inte kört föregående avsnitt, gå först tillbaka och importera data här (gör till länk)</p>"
   ]
  },
  {
   "cell_type": "code",
   "execution_count": 4,
   "metadata": {},
   "outputs": [
    {
     "data": {
      "application/vnd.jupyter.widget-view+json": {
       "model_id": "805a887c23ee4a8c97474e7c3267bb4e",
       "version_major": 2,
       "version_minor": 0
      },
      "text/plain": [
       "IntProgress(value=0, max=7150)"
      ]
     },
     "metadata": {},
     "output_type": "display_data"
    }
   ],
   "source": [
    "dictionaries_people=fetch_data('person')"
   ]
  },
  {
   "cell_type": "markdown",
   "metadata": {},
   "source": [
    "<p>När man kör nästa cell får man fram föjande information:<br><br>\n",
    "    <li>Antal organisationer som har en eller fler produktioner</li>\n",
    "    <li>Antal organisationer som har artiklar</li>\n",
    "    <li>Antal organisationer som har fler än 10 (kan ändras) produktioner</li>\n",
    "    <li>Antal produktioner i databasen</li>\n",
    "    <li>Antal produktioner som har personer kopplade till sig</li>\n",
    "    <li>Antal personer (unika) som är kopplade till alla produktioner i databasen</li>\n",
    "    <li>Antal personer (unika) som finns i databasen</p>\n",
    "    <li>Antal personer som har artiklar</li>\n",
    "    <br>\n",
    "\n",
    "Dessutom så hämtas data till en tablell som skapas i cellen nedanför\n",
    "    \n",
    "</p>\n",
    "        "
   ]
  },
  {
   "cell_type": "code",
   "execution_count": 5,
   "metadata": {
    "scrolled": true
   },
   "outputs": [
    {
     "data": {
      "application/vnd.jupyter.widget-view+json": {
       "model_id": "ff7c7de29b8a4192b8af181c7906fafb",
       "version_major": 2,
       "version_minor": 0
      },
      "text/plain": [
       "IntProgress(value=0, max=487)"
      ]
     },
     "metadata": {},
     "output_type": "display_data"
    },
    {
     "data": {
      "text/html": [
       "<h3>Överblick databasen</h3><p style=\"font-size:14px\">Det finns <b>164</b> ogranisationer som har en eller flera produktioner. <br>Av dessa har <b>98</b> artiklar. Räknar vi alla organisationer (486) så finns det 245 som har artiklar. <br><b>1659</b> produktioner har dessa organisationer sammanlagt. 23 har fler än 10 produktioner.<br>Av de 1659 produktionerna är det <b>446</b> som har några personer kopplade, totalt <b>2010</b> unika personer.<br>Totalt finns det <b>7150</b> personer i databasen, så de flesta används inte. <b>158</b> personer har artiklar.</p>"
      ],
      "text/plain": [
       "<IPython.core.display.HTML object>"
      ]
     },
     "metadata": {},
     "output_type": "display_data"
    }
   ],
   "source": [
    "name_organizations,list_count_productions_in_organization,list_count_unique_people_in_organization=return_statistics_variables()\n",
    "#plats \n",
    "#graf - bar?\n",
    "#vem har lagt in"
   ]
  },
  {
   "cell_type": "markdown",
   "metadata": {},
   "source": [
    "<p>När man kör nästa cell får man en tabell med alla organisationer som har en eller flera produktioner. \n",
    "Varje organisation har en kolumn som visar antalet produktioner, samt antal personer kopplade till organisationen.<br><br>\n",
    "Välj mellan att sortera i alfabetisk ordning, efter antal produktioner, eller antal personer. <p>\n"
   ]
  },
  {
   "cell_type": "code",
   "execution_count": 6,
   "metadata": {},
   "outputs": [
    {
     "data": {
      "application/vnd.jupyter.widget-view+json": {
       "model_id": "43be9cfe3fc24fa1a81f16ffcbf024f5",
       "version_major": 2,
       "version_minor": 0
      },
      "text/plain": [
       "Output()"
      ]
     },
     "metadata": {},
     "output_type": "display_data"
    }
   ],
   "source": [
    "create_table_org_prod_pers()"
   ]
  },
  {
   "cell_type": "markdown",
   "metadata": {},
   "source": [
    "<h2>Överblick: organisationer och produktioner över tid</h2>\n",
    "<p>Kan lägga till produktioner över tid som ett nytt avsnitt. <br>\n",
    "Kan lägga till så att man kan välja om man vill ha linjer eller, som nu, punkter. Dessutom kan man få välja färg.<br>\n",
    "Senare kunna välja kluser (i en ny liknande graf). Kluster i dropdown + option att visa vilka organisationer som ingår i kluster. Välja \n",
    "om man vill visa antalet organisationer i varje kluster (nya/totalt) eller produktioner klustret har ansvarat för.</p>"
   ]
  },
  {
   "cell_type": "markdown",
   "metadata": {},
   "source": [
    "<p>Kör nästa cell för att få fram en graf som har antalet organisationer på y-axeln och åren mellan 1960-2000 på x-axeln.\n",
    "Man kan välja mellan att inkludera alla organisationer i databasen som har startår OCH slutår alternativt endast startår.\n",
    "I grafen där organisationen bara behöver ha <b>startår antas att organisationen fortfarande är aktiv</b>.<br><br>\n",
    "\n",
    "Det finns också ett alternativ att välja att inkludera en graf som visar antalet produktioner över tid. Vilka organisationer \n",
    "vars produktioner som räknas är baserat på de som räknats för att få fram värdena för organisationsgrafen. Det betyder att om \n",
    "man väljer organisationer med start- och slutår så kommer endast organisationer som har både start- och slutår att undersökas\n",
    "gällande hur många produktioner som fanns varje år. Observera att det tar <b>lång tid</b>, särskilt om man väljer \n",
    "organisationer med bara startår.</p>\n"
   ]
  },
  {
   "cell_type": "code",
   "execution_count": 7,
   "metadata": {
    "scrolled": true
   },
   "outputs": [
    {
     "data": {
      "application/vnd.jupyter.widget-view+json": {
       "model_id": "16ced7062ebf435f9f4afff537f62551",
       "version_major": 2,
       "version_minor": 0
      },
      "text/plain": [
       "Output()"
      ]
     },
     "metadata": {},
     "output_type": "display_data"
    }
   ],
   "source": [
    "list_of_lists_org_ids_per_year=create_graph_new_total_org()"
   ]
  },
  {
   "cell_type": "markdown",
   "metadata": {},
   "source": [
    "<h3>Organisationsgraf</h3>\n",
    "<p>Välja mellan alla organisationer som har produktioner (kan ändra).<br>\n",
    "Kan selektera många. Här ska kluster definieras sen också \n",
    "(ex färg baserat på kluster och alternativ att välja alla i ett kluster istället). <br>\n",
    "När man har valt en organisation som bara har startår och 0000 som slutår blir slutåret automatiskt 2020. \n",
    "Det kommer upp en text som varnar om detta. <br>\n",
    "Det kommer också upp varningar om organisationen har samma start- och slutår vilket betyder att den inte \n",
    "visas i grafen. <br>\n",
    "En sista varningstyp är om vald organisation varken har start- eller slutår.<br>\n",
    "Med alla typer av varningar finns det också en länk till organisationen i fråga.</p>\n"
   ]
  },
  {
   "cell_type": "code",
   "execution_count": 8,
   "metadata": {},
   "outputs": [
    {
     "data": {
      "application/vnd.jupyter.widget-view+json": {
       "model_id": "a0908d93c08d4a95b4fd9b661db6d6eb",
       "version_major": 2,
       "version_minor": 0
      },
      "text/plain": [
       "Output()"
      ]
     },
     "metadata": {},
     "output_type": "display_data"
    }
   ],
   "source": [
    "organization_time_line()"
   ]
  },
  {
   "cell_type": "markdown",
   "metadata": {},
   "source": [
    "### Ingång via roll\n",
    "\n",
    "Val av roll och organisation visar alla namn på personer inom organisationen med selekterad roll.\n",
    "Namnen listat tillsammans med de olika produktionerna, samt platserna de hölls på om den informationen finns. \n",
    "Alla platser visas också på en karta."
   ]
  },
  {
   "cell_type": "code",
   "execution_count": 12,
   "metadata": {},
   "outputs": [
    {
     "data": {
      "application/javascript": [
       "IPython.OutputArea.prototype._should_scroll = function(lines) {\n",
       "    return false;\n",
       "}\n"
      ],
      "text/plain": [
       "<IPython.core.display.Javascript object>"
      ]
     },
     "metadata": {},
     "output_type": "display_data"
    },
    {
     "data": {
      "application/vnd.jupyter.widget-view+json": {
       "model_id": "8a7bb5e80ec84928b9161950db50c0ec",
       "version_major": 2,
       "version_minor": 0
      },
      "text/plain": [
       "HBox(children=(SelectMultiple(description='Roller', options=('Administratör', 'Affisch', 'Affischfotograf', 'A…"
      ]
     },
     "metadata": {},
     "output_type": "display_data"
    },
    {
     "data": {
      "application/vnd.jupyter.widget-view+json": {
       "model_id": "04aa262fbf9c498795d6173314940a9e",
       "version_major": 2,
       "version_minor": 0
      },
      "text/plain": [
       "Button(button_style='danger', description='Uppdatera', layout=Layout(margin='50px 100px 40px 275px'), style=Bu…"
      ]
     },
     "metadata": {},
     "output_type": "display_data"
    },
    {
     "data": {
      "application/vnd.jupyter.widget-view+json": {
       "model_id": "efbedaf88c5b4c69b825d6d0d9f935ca",
       "version_major": 2,
       "version_minor": 0
      },
      "text/plain": [
       "Output()"
      ]
     },
     "metadata": {},
     "output_type": "display_data"
    }
   ],
   "source": [
    "personer_via_org_roll()"
   ]
  }
 ],
 "metadata": {
  "kernelspec": {
   "display_name": "Python 3",
   "language": "python",
   "name": "python3"
  },
  "language_info": {
   "codemirror_mode": {
    "name": "ipython",
    "version": 3
   },
   "file_extension": ".py",
   "mimetype": "text/x-python",
   "name": "python",
   "nbconvert_exporter": "python",
   "pygments_lexer": "ipython3",
   "version": "3.8.3"
  }
 },
 "nbformat": 4,
 "nbformat_minor": 4
}
